{
 "cells": [
  {
   "cell_type": "markdown",
   "metadata": {},
   "source": [
    "# Day 1 Assignment"
   ]
  },
  {
   "cell_type": "markdown",
   "metadata": {},
   "source": [
    "# Questions 1:"
   ]
  },
  {
   "cell_type": "markdown",
   "metadata": {},
   "source": [
    "Given the following jumbled word, OBANWRI guess the correct English word.\n",
    "\n",
    "A. RANIBOW\n",
    "B. RAINBOW\n",
    "C. BOWRANI\n",
    "D. ROBWANI"
   ]
  },
  {
   "cell_type": "markdown",
   "metadata": {},
   "source": [
    "<b>B.RAINBOW</b>"
   ]
  },
  {
   "cell_type": "markdown",
   "metadata": {},
   "source": [
    "# Questions 2:"
   ]
  },
  {
   "cell_type": "raw",
   "metadata": {},
   "source": [
    "Write a program which prints “LETS UPGRADE”. (Please note that you have to\n",
    "print in ALL CAPS as given)"
   ]
  },
  {
   "cell_type": "code",
   "execution_count": 1,
   "metadata": {},
   "outputs": [
    {
     "name": "stdout",
     "output_type": "stream",
     "text": [
      "LETS UPGRADE\n"
     ]
    }
   ],
   "source": [
    "print(\"LETS UPGRADE\")"
   ]
  },
  {
   "cell_type": "markdown",
   "metadata": {},
   "source": [
    "# Questions 3:"
   ]
  },
  {
   "cell_type": "markdown",
   "metadata": {},
   "source": [
    "Write a program that takes cost price and selling price as input and displays whether the transaction is a\n",
    "Profit or a Loss or Neither."
   ]
  },
  {
   "cell_type": "code",
   "execution_count": 2,
   "metadata": {},
   "outputs": [
    {
     "name": "stdout",
     "output_type": "stream",
     "text": [
      "30\n",
      "40\n",
      "Profit\n"
     ]
    }
   ],
   "source": [
    "costprice=int(input())\n",
    "sellingprice=int(input())\n",
    "if costprice<sellingprice:\n",
    "    print(\"Profit\")\n",
    "elif costprice>sellingprice:\n",
    "    print(\"Loss\")\n",
    "else:\n",
    "    print(\"Neither\")"
   ]
  },
  {
   "cell_type": "markdown",
   "metadata": {},
   "source": [
    "# Questions 4:"
   ]
  },
  {
   "cell_type": "markdown",
   "metadata": {},
   "source": [
    "Write a program that takes cost price and selling price as input and displays whether the transaction is a\n",
    "Profit or a Loss or Neither.\n",
    "INPUT FORMAT\n",
    "The first line contains the cost price.\n",
    "The second line contains the selling price.\n",
    "OUTPUT FORMAT\n",
    "Print \"Profit\" if the transaction is a profit or \"Loss\" if it is a loss. If it is neither\n",
    "profit nor loss, print \"Neither\". (You must not have quotes in your output)\n",
    "NOTE:\n",
    "Please stick to the input and output format. Don't add anything extra like\n",
    "'Enter cost price', 'Enter selling price', etc."
   ]
  },
  {
   "cell_type": "code",
   "execution_count": 3,
   "metadata": {},
   "outputs": [
    {
     "name": "stdout",
     "output_type": "stream",
     "text": [
      "50\n",
      "30\n",
      "Loss\n"
     ]
    }
   ],
   "source": [
    "costprice=int(input())\n",
    "sellingprice=int(input())\n",
    "if costprice<sellingprice:\n",
    "    print(\"Profit\")\n",
    "elif costprice>sellingprice:\n",
    "    print(\"Loss\")\n",
    "else:\n",
    "    print(\"Neither\")"
   ]
  },
  {
   "cell_type": "markdown",
   "metadata": {},
   "source": [
    "# Questions 5:"
   ]
  },
  {
   "cell_type": "markdown",
   "metadata": {},
   "source": [
    "Write a program that takes an amount in Indian Rupees as input. You need to find its equivalent\n",
    "in Euro and display it. Assume 1 Euro equals Rs. 80.\n",
    "Please note that you are expected to stick to the given input and output\n",
    "format as in sample test cases. Please don't add any extra lines such as\n",
    "'Enter a number', etc.\n",
    "Your program should take only one number as input and display the output."
   ]
  },
  {
   "cell_type": "code",
   "execution_count": 1,
   "metadata": {},
   "outputs": [
    {
     "name": "stdout",
     "output_type": "stream",
     "text": [
      "35\n",
      "2800\n"
     ]
    }
   ],
   "source": [
    "rupee=int(input())\n",
    "print(rupee*80)"
   ]
  },
  {
   "cell_type": "code",
   "execution_count": null,
   "metadata": {},
   "outputs": [],
   "source": []
  }
 ],
 "metadata": {
  "celltoolbar": "Raw Cell Format",
  "kernelspec": {
   "display_name": "Python 3",
   "language": "python",
   "name": "python3"
  },
  "language_info": {
   "codemirror_mode": {
    "name": "ipython",
    "version": 3
   },
   "file_extension": ".py",
   "mimetype": "text/x-python",
   "name": "python",
   "nbconvert_exporter": "python",
   "pygments_lexer": "ipython3",
   "version": "3.7.4"
  }
 },
 "nbformat": 4,
 "nbformat_minor": 2
}
